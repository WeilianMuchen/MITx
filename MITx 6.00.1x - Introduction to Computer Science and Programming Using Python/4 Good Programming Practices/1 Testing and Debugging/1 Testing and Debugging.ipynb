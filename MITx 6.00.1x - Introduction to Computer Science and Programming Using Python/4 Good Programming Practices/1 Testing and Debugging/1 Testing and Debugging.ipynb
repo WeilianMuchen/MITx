{
 "cells": [
  {
   "cell_type": "code",
   "execution_count": null,
   "metadata": {},
   "outputs": [],
   "source": [
    "### Author: WeilianMuchen"
   ]
  },
  {
   "cell_type": "code",
   "execution_count": null,
   "metadata": {},
   "outputs": [],
   "source": [
    "### Exercise 1\n",
    "def size(aSet):\n",
    "   \"\"\"\n",
    "   aSet is a collection of objects, which might be empty.\n",
    "   Objects are assumed to be of the same type.\n",
    "   \"\"\"\n",
    "## Here is a set of possible test cases to include in a black box test suite. Indicate which of the following conditions would make a good black box test suite for the function size by clicking on the appropriate choice(s).\n",
    "\n",
    "## A good black box test suite would contain tests for the following conditions: Empty set, Set of size 1, and Set of size greater than 1. Black-box testing is a method of software testing that tests the functionality of an application"
   ]
  },
  {
   "cell_type": "code",
   "execution_count": null,
   "metadata": {},
   "outputs": [],
   "source": [
    "### Excercise 2\n",
    "def union(set1, set2):\n",
    "   \"\"\"\n",
    "   set1 and set2 are collections of objects, each of which might be empty.\n",
    "   Each set has no duplicates within itself, but there may be objects that\n",
    "   are in both sets. Objects are assumed to be of the same type.\n",
    "\n",
    "   This function returns one set containing all elements from\n",
    "   both input sets, but with no duplicates.\n",
    "   \"\"\"\n",
    "## Indicate which of the conditions below would combine to make a good black box test suite for the function union by selecting the appropriate choice(s).\n",
    "\n",
    "## A good black box test suite would contain tests for all of the given conditions! Black-box testing tests the functionality of an application, by looking at the paths through its specifications.\n",
    "\n",
    "According to the specifications, the possibilities for set1 and set2 are as follows: both sets are empty; one of the sets is empty and one has at least one object; both sets are not empty. The tests list all the combinations of those possibilities for set1 and set2."
   ]
  },
  {
   "cell_type": "code",
   "execution_count": null,
   "metadata": {},
   "outputs": [],
   "source": [
    "### Excercise 3\n",
    "def maxOfThree(a,b,c) :\n",
    "    \"\"\"\n",
    "    a, b, and c are numbers\n",
    "\n",
    "    returns: the maximum of a, b, and c        \n",
    "    \"\"\"\n",
    "    if a > b:\n",
    "        bigger = a\n",
    "\n",
    "    else:\n",
    "        bigger = b\n",
    "\n",
    "    if c > bigger:\n",
    "        bigger = c\n",
    "\n",
    "    return bigger\n",
    "## Assume that maxOfThree is called with numbers as arguments.\n",
    "## Which of the following test suites would make a path-complete glass box test suite for maxOfThree?\n",
    "\n",
    "## Test Suite A: maxOfThree(2, -10, 100), maxOfThree(7, 9, 10), maxOfThree(6, 1, 5), maxOfThree(0, 40, 20)"
   ]
  },
  {
   "cell_type": "code",
   "execution_count": null,
   "metadata": {},
   "outputs": [],
   "source": [
    "### Excercise 4\n",
    "def union(set1, set2):\n",
    "   \"\"\"\n",
    "   set1 and set2 are collections of objects, each of which might be empty.\n",
    "   Each set has no duplicates within itself, but there may be objects that\n",
    "   are in both sets. Objects are assumed to be of the same type.\n",
    "\n",
    "   This function returns one set containing all elements from\n",
    "   both input sets, but with no duplicates.\n",
    "   \"\"\"\n",
    "   if len(set1) == 0:\n",
    "      return set2\n",
    "   elif set1[0] in set2:\n",
    "      return union(set1[1:], set2)\n",
    "   else:\n",
    "      return set1[0] + union(set1[1:], set2)\n",
    "## Assume that union is called with strings as arguments.\n",
    "## Please select the best glass box test suite for the function union from the following options:\n",
    "\n",
    "## Test Suite D: union('','abc'), union('a','abc'), union('ab','abc'), union('d','abc')"
   ]
  },
  {
   "cell_type": "code",
   "execution_count": null,
   "metadata": {},
   "outputs": [],
   "source": [
    "## def foo(x, a):\n",
    "   \"\"\"\n",
    "   x: a positive integer argument\n",
    "   a: a positive integer argument\n",
    "\n",
    "   returns an integer\n",
    "   \"\"\"\n",
    "   count = 0\n",
    "   while x >= a:\n",
    "      count += 1\n",
    "      x = x - a\n",
    "   return count\n",
    "## Please select the best glass box test suite for the function foo from the following options.\n",
    "\n",
    "## Test Suite B: foo(10, 3), foo(1, 4), foo(10, 6)"
   ]
  },
  {
   "cell_type": "code",
   "execution_count": null,
   "metadata": {},
   "outputs": [],
   "source": [
    "### Exercise: integer division\n",
    "def integerDivision(x, a):\n",
    "    \"\"\"\n",
    "    x: a non-negative integer argument\n",
    "    a: a positive integer argument\n",
    "\n",
    "    returns: integer, the integer division of x divided by a.\n",
    "    \"\"\"\n",
    "    while x >= a:\n",
    "        count += 1\n",
    "        x = x - a\n",
    "    return count\n",
    "\n",
    "print(integerDivision(5, 3))\n",
    "\n",
    "## we get the following error message:\n",
    "File \"temp.py\", line 9, in integerDivision\n",
    "    count += 1\n",
    "UnboundLocalError: local variable 'count' referenced before assignment\n",
    "    \n",
    "## Your task is to modify the code for integerDivision so that this error does not occur.    \n",
    "def integerDivision(x, a):\n",
    "    \"\"\"\n",
    "    x: a non-negative integer argument\n",
    "    a: a positive integer argument\n",
    "\n",
    "    returns: integer, the integer division of x divided by a.\n",
    "    \"\"\"\n",
    "    count = 0\n",
    "    while x >= a:\n",
    "        count += 1\n",
    "        x = x - a\n",
    "    return count"
   ]
  },
  {
   "cell_type": "code",
   "execution_count": null,
   "metadata": {},
   "outputs": [],
   "source": [
    "### Exercise 6\n",
    "def rem(x, a):\n",
    "    \"\"\"\n",
    "    x: a non-negative integer argument\n",
    "    a: a positive integer argument\n",
    "\n",
    "    returns: integer, the remainder when x is divided by a.\n",
    "    \"\"\"\n",
    "    if x == a:\n",
    "        return 0\n",
    "    elif x < a:\n",
    "        return x\n",
    "    else:\n",
    "        rem(x-a, a)\n",
    "        \n",
    "## How should this line be rewritten?\n",
    "return rem(x-a, a) #modify rem(x-a, a)"
   ]
  },
  {
   "cell_type": "code",
   "execution_count": null,
   "metadata": {},
   "outputs": [],
   "source": [
    "## Exercise 7\n",
    "def f(n):\n",
    "   \"\"\"\n",
    "   n: integer, n >= 0.\n",
    "   \"\"\"\n",
    "   if n == 0:\n",
    "      return n\n",
    "   else:\n",
    "      return n * f(n-1)\n",
    "\n",
    "## How should this line be rewritten?\n",
    "return 1 #modify return n"
   ]
  },
  {
   "cell_type": "code",
   "execution_count": null,
   "metadata": {},
   "outputs": [],
   "source": [
    "## Debugging Example\n",
    "def isPal(x):\n",
    "    assert type(x) == list temp = x\n",
    "    temp.reverse\n",
    "    if temp == x:\n",
    "        return True\n",
    "    else:\n",
    "        return False\n",
    "\n",
    "def silly(n):\n",
    "    for i in range(n):\n",
    "        result = []\n",
    "        elem = input('Enter element: ') result.append(elem)\n",
    "    if isPal(result):\n",
    "        print('Yes')\n",
    "    else:\n",
    "        print('No')"
   ]
  }
 ],
 "metadata": {
  "kernelspec": {
   "display_name": "Python 3",
   "language": "python",
   "name": "python3"
  },
  "language_info": {
   "codemirror_mode": {
    "name": "ipython",
    "version": 3
   },
   "file_extension": ".py",
   "mimetype": "text/x-python",
   "name": "python",
   "nbconvert_exporter": "python",
   "pygments_lexer": "ipython3",
   "version": "3.7.6"
  }
 },
 "nbformat": 4,
 "nbformat_minor": 4
}
